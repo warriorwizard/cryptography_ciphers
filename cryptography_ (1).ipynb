{
  "nbformat": 4,
  "nbformat_minor": 0,
  "metadata": {
    "colab": {
      "name": "cryptography .ipynb",
      "provenance": [],
      "collapsed_sections": []
    },
    "kernelspec": {
      "name": "python3",
      "display_name": "Python 3"
    },
    "language_info": {
      "name": "python"
    }
  },
  "cells": [
    {
      "cell_type": "code",
      "source": [
        "#1 SHIFT CIPHER\n",
        "def encrypt():\n",
        "  pt=input(\"Enter the plain text:\")\n",
        "  k=int(input(\"enter the key:\"))\n",
        "  ct=\"\"\n",
        "  for i in pt:\n",
        "    if ord(i)>=65 and ord(i)<=90:\n",
        "      ct+=chr((((ord(i)-65)+k)%26)+65)\n",
        "    else:\n",
        "      ct+=chr((((ord(i)-97)+k)%26)+97)\n",
        "  return ct\n",
        "def decrypt():\n",
        "  ct=encrypt()\n",
        "  print(\"Cipher Text:\",ct)\n",
        "  k=int(input(\"enter the key:\"))\n",
        "  dt=\"\"\n",
        "  for i in ct:\n",
        "    if ord(i)>=65 and ord(i)<=90:\n",
        "      dt+=chr((((ord(i)-65)-k)%26)+65)\n",
        "    else:\n",
        "      dt+=chr((((ord(i)-97)-k)%26)+97)\n",
        "  print(\"Decrypted Text:\",dt)"
      ],
      "metadata": {
        "id": "pl1psh8ei0Nh"
      },
      "execution_count": null,
      "outputs": []
    },
    {
      "cell_type": "code",
      "source": [
        "decrypt()"
      ],
      "metadata": {
        "colab": {
          "base_uri": "https://localhost:8080/"
        },
        "id": "5if79k7zvH3f",
        "outputId": "39bd9eb2-a68e-4980-cb7c-8a6a0ed6323f"
      },
      "execution_count": null,
      "outputs": [
        {
          "output_type": "stream",
          "name": "stdout",
          "text": [
            "Enter the plain text:abc\n",
            "enter the key:3\n",
            "Cipher Text: def\n",
            "enter the key:3\n",
            "Decrypted Text: abc\n"
          ]
        }
      ]
    },
    {
      "cell_type": "code",
      "source": [
        "#2 MONOALPHABETIC CIPHER\n",
        "dic={\n",
        "  'A':'k',\n",
        "  'B':'l',\n",
        "  'C':'m',\n",
        "  'D':'o',\n",
        "  'E':'n',\n",
        "  'F':'p',\n",
        "  'G':'t',\n",
        "  'H':'s',\n",
        "  'I':'q',\n",
        "  'J':'r',\n",
        "  'K':'a',\n",
        "  'L':'u',\n",
        "  'M':'v',\n",
        "  'N':'w',\n",
        "  'O':'z',\n",
        "  'P':'b',\n",
        "  'Q':'c',\n",
        "  'R':'d',\n",
        "  'S':'e',\n",
        "  'T':'f',\n",
        "  'U':'x',\n",
        "  'V':'y',\n",
        "  'W':'j',\n",
        "  'X':'g',\n",
        "  'Y':'i',\n",
        "  'Z':'h'\n",
        "  }\n",
        "\n",
        "def encrypt():\n",
        "  pt=input(\"Enter the Plain Text=\")\n",
        "  ct=\"\"\n",
        "  for i in pt:\n",
        "      ct=ct+dic[i]\n",
        "  return ct\n",
        "\n",
        "def decrypt():\n",
        "  ct=encrypt()\n",
        "  print(\"CIPHER TEXT=\",ct)\n",
        "  val=list(dic.values())\n",
        "  key=list(dic.keys())\n",
        "  di=dict(zip(val,key))\n",
        "  dt=\"\"\n",
        "  for i in ct:\n",
        "    dt=dt+di[i]\n",
        "  print(\"DECRYPTED TEXT=\",dt)"
      ],
      "metadata": {
        "id": "Es7h5tYrMZ9d"
      },
      "execution_count": null,
      "outputs": []
    },
    {
      "cell_type": "code",
      "source": [
        "decrypt()\n"
      ],
      "metadata": {
        "colab": {
          "base_uri": "https://localhost:8080/"
        },
        "id": "3_xWEkVvSgF4",
        "outputId": "0630f09c-2100-471b-9bdb-0f38334b6814"
      },
      "execution_count": null,
      "outputs": [
        {
          "output_type": "stream",
          "name": "stdout",
          "text": [
            "Enter the Plain Text=ABC\n",
            "CIPHER TEXT= klm\n",
            "DECRYPTED TEXT= ABC\n"
          ]
        }
      ]
    },
    {
      "cell_type": "code",
      "execution_count": null,
      "metadata": {
        "id": "a9XctiFoaYrz"
      },
      "outputs": [],
      "source": [
        "#3 POLY SUBSTITUTION CIPHER(ONE TIME PAD)\n",
        "def encrypt():\n",
        "  '''this function is to convert plain text in to cipher text''' \n",
        "  pt=input(\"enter the plain text=\")\n",
        "  pt_no=[]\n",
        "  for i in pt:\n",
        "    if ord(i)>=65 and ord(i)<=90:\n",
        "      pt_no.append(ord(i)-65)\n",
        "    else:\n",
        "      pt_no.append(ord(i)-97)\n",
        "  key=input(\"enter the key=\")\n",
        "  k_no=[]\n",
        "  for i in key:\n",
        "    if ord(i)>=65 and ord(i)<=90:\n",
        "      k_no.append(ord(i)-65)\n",
        "    else:\n",
        "      k_no.append(ord(i)-97)\n",
        "  addition=[]\n",
        "  for i in range(len(pt_no)):\n",
        "      addition.append(pt_no[i]+k_no[i])\n",
        "  for i in range(len(addition)):\n",
        "    if addition[i]>25:\n",
        "      addition[i]=addition[i]-26\n",
        "  ct=\"\"\n",
        "  for i in range(len(addition)):\n",
        "    ct+=chr(addition[i]+65)\n",
        "  return ct\n",
        "def decrypt():\n",
        "  ct=encrypt()\n",
        "  print(\"CIPHER TEXT=\",ct)\n",
        "  ct_no=[]\n",
        "  dt=\"\"\n",
        "  for i in ct:\n",
        "    if ord(i)>=65 and ord(i)<=90:\n",
        "      ct_no.append(ord(i)-65)\n",
        "    else:\n",
        "      ct_no.append(ord(i)-97)\n",
        "  key=input(\"enter the key=\")\n",
        "  k_no=[]\n",
        "  for i in key:\n",
        "    if ord(i)>=65 and ord(i)<=90:\n",
        "      k_no.append(ord(i)-65)\n",
        "    else:\n",
        "      k_no.append(ord(i)-97)\n",
        "  substraction=[]\n",
        "  for i in range(len(ct_no)):\n",
        "    substraction.append(ct_no[i]-k_no[i])\n",
        "  for i in range(len(substraction)):\n",
        "    if substraction[i]<0:\n",
        "      substraction[i]+=26\n",
        "  for i in range(len(substraction)):\n",
        "    dt+=chr(substraction[i]+65)\n",
        "  print(\"DECRYPTED TEXT=\",dt)"
      ]
    },
    {
      "cell_type": "code",
      "source": [
        "decrypt()"
      ],
      "metadata": {
        "colab": {
          "base_uri": "https://localhost:8080/"
        },
        "id": "-38SCKFVW_R1",
        "outputId": "37e06838-b0a3-4e4a-8f73-7d02a094c5e2"
      },
      "execution_count": null,
      "outputs": [
        {
          "output_type": "stream",
          "name": "stdout",
          "text": [
            "enter the plain text=Hello\n",
            "enter the key=bcxay\n",
            "CIPHER TEXT= IGILM\n",
            "enter the key=bcxay\n",
            "DECRYPTED TEXT= HELLO\n"
          ]
        }
      ]
    },
    {
      "cell_type": "code",
      "source": [
        "#4 AUTOKEY CIPHER\n",
        "def encrypt():\n",
        "  '''this function is to convert plain text in to cipher text''' \n",
        "  pt=input(\"enter the plain text=\")\n",
        "  pt_no=[]\n",
        "  for i in pt:\n",
        "    if ord(i)>=65 and ord(i)<=90:\n",
        "      pt_no.append(ord(i)-65)\n",
        "    else:\n",
        "      pt_no.append(ord(i)-97)\n",
        "  key=int(input(\"enter the key=\"))\n",
        "  k_no=[]\n",
        "  k_no.append(key)\n",
        "  for i in range(len(pt_no)):\n",
        "    k_no.append(0)\n",
        "  for i in range(len(pt_no)):\n",
        "    k_no[i+1]=pt_no[i]\n",
        "  addition=[]\n",
        "  for i in range(len(pt_no)):\n",
        "      addition.append(pt_no[i]+k_no[i])\n",
        "  for i in range(len(addition)):\n",
        "    if addition[i]>25:\n",
        "      addition[i]=addition[i]-26\n",
        "  ct=\"\"\n",
        "  for i in range(len(addition)):\n",
        "    ct+=chr(addition[i]+65)\n",
        "  return ct\n",
        "\n",
        "\n",
        "def decrypt():\n",
        "  dt=\"\"\n",
        "  ct=encrypt()\n",
        "  print(\"CIPHER TEXT=\",ct)\n",
        "  ct_no=[]\n",
        "  for i in ct:\n",
        "    if ord(i)>=65 and ord(i)<=90:\n",
        "      ct_no.append(ord(i)-65)\n",
        "    else:\n",
        "      ct_no.append(ord(i)-97)\n",
        "  #print(ct_no)\n",
        "  key=int(input(\"Enter the key=\"))\n",
        "  kno=[]\n",
        "  kno.append(key)\n",
        "  for i in range(len(ct_no)):\n",
        "    kno.append(0)\n",
        "  for i in range(1,len(ct_no)):\n",
        "     kno[i]=ct_no[i-1]-kno[i-1]\n",
        "  #print(kno)\n",
        "  subs=[]\n",
        "  for i in range(len(ct_no)):\n",
        "    subs.append(ct_no[i]-kno[i])\n",
        "  for i in range(len(subs)):\n",
        "    if subs[i]<0:\n",
        "      subs[i]+=26\n",
        "  #print(subs)\n",
        "  for i in range(len(subs)):\n",
        "    dt+=chr(subs[i]+65)\n",
        "  print(\"DECRYPTED TEXT=\",dt)"
      ],
      "metadata": {
        "id": "Pm98-CaciZrl"
      },
      "execution_count": null,
      "outputs": []
    },
    {
      "cell_type": "code",
      "source": [
        "decrypt()"
      ],
      "metadata": {
        "colab": {
          "base_uri": "https://localhost:8080/"
        },
        "id": "s30FCvMEqKQs",
        "outputId": "74e5897b-e7e9-466f-e408-4535c94583ed"
      },
      "execution_count": null,
      "outputs": [
        {
          "output_type": "stream",
          "name": "stdout",
          "text": [
            "enter the plain text=Hello\n",
            "enter the key=15\n",
            "CIPHER TEXT= WLPWZ\n",
            "Enter the key=15\n",
            "DECRYPTED TEXT= HELLO\n"
          ]
        }
      ]
    },
    {
      "cell_type": "code",
      "source": [
        "#5 Multiplicative Cipher\n",
        "def encrypt():\n",
        "  pt=input(\"enter the plain text=\")\n",
        "  pt_no=[]\n",
        "  for i in pt:\n",
        "    if ord(i)>=65 and ord(i)<=90:\n",
        "      pt_no.append(ord(i)-65)\n",
        "    else:\n",
        "      pt_no.append(ord(i)-97)\n",
        "  key=int(input(\"enter the key=\"))\n",
        "  for i in range(len(pt_no)):\n",
        "    pt_no[i]=(pt_no[i]*key)%26\n",
        "  ct=\"\"\n",
        "  for i in pt_no:\n",
        "    ct+=chr(i+65)\n",
        "  return ct\n",
        "def decrypt():\n",
        "  ct=encrypt()\n",
        "  print(\"CIPHER TEXT=\",ct)\n",
        "  k2=int(input(\"Enter the inverse of key k1=\"))\n",
        "  ct_no=[]\n",
        "  for i in ct:\n",
        "    if ord(i)>=65 and ord(i)<=90:\n",
        "      ct_no.append(ord(i)-65)\n",
        "    else:\n",
        "      ct_no.append(ord(i)-97)\n",
        "  dt_no=[]\n",
        "  for i in ct_no:\n",
        "    dt_no.append((i*k2)%26)\n",
        "  dt=\"\"\n",
        "  for i in dt_no:\n",
        "    dt+=chr(i+65)\n",
        "  print(\"DECRYPTED TEXT=\",dt)"
      ],
      "metadata": {
        "id": "xy_nB7WO_H84"
      },
      "execution_count": null,
      "outputs": []
    },
    {
      "cell_type": "code",
      "source": [
        "decrypt()"
      ],
      "metadata": {
        "colab": {
          "base_uri": "https://localhost:8080/"
        },
        "id": "VzacN8w5c32P",
        "outputId": "7060513a-1dbb-4252-ea60-9dcfd693f2f4"
      },
      "execution_count": null,
      "outputs": [
        {
          "output_type": "stream",
          "name": "stdout",
          "text": [
            "enter the plain text=Hello\n",
            "enter the key=7\n",
            "CIPHER TEXT= XCZZU\n",
            "Enter the inverse of key k1=15\n",
            "DECRYPTED TEXT= HELLO\n"
          ]
        }
      ]
    },
    {
      "cell_type": "code",
      "source": [
        "# 6 AFFINE CIPHER\n",
        "def encrypt():\n",
        "    pt = input(\"Enter the plain text=\")\n",
        "    pt_no = []\n",
        "    for i in pt:\n",
        "        if ord(i) >= 65 and ord(i) <= 90:\n",
        "            pt_no.append(ord(i)-65)\n",
        "        if ord(i) >= 97 and ord(i) <= 122:\n",
        "            pt_no.append(ord(i)-97)\n",
        "    k1 = int(input(\"Enter the key,k1=\"))\n",
        "    k2 = int(input(\"Enter the key,k2=\"))\n",
        "    k3 = int(input(\"Enter the inverse of key k1=\"))\n",
        "    ct_no = []\n",
        "    for i in pt_no:\n",
        "        ct_no.append(((i*k1)+k2) % 26)\n",
        "    ct = \"\"\n",
        "    for i in ct_no:\n",
        "        ct += chr(i+65)\n",
        "    return ct\n",
        "\n",
        "\n",
        "def decrypt():\n",
        "    ct = encrypt()\n",
        "    print(\"CIPHER TEXT=\", ct)\n",
        "    k2 = int(input(\"Enter the key,k2=\"))\n",
        "    k3 = int(input(\"Enter the inverse of key k1=\"))\n",
        "    ct_no = []\n",
        "    for i in ct:\n",
        "        if ord(i) >= 65 and ord(i) <= 90:\n",
        "            ct_no.append(ord(i)-65)\n",
        "        else:\n",
        "            ct_no.append(ord(i)-97)\n",
        "    dt_no = []\n",
        "    for i in ct_no:\n",
        "        dt_no.append((i-k2)*k3)\n",
        "    f=[]\n",
        "    for i in dt_no:\n",
        "        if i < 0:\n",
        "            i = i+26\n",
        "            i = i % 26\n",
        "            f.append(i)\n",
        "        else:\n",
        "            i = i % 26\n",
        "            f.append(i)\n",
        "    dt = \"\"\n",
        "    for i in f:\n",
        "        dt += chr(i+65)\n",
        "    print(\"DECRYPTED TEXT=\", dt)"
      ],
      "metadata": {
        "id": "ZM4gwT7Z3_6f"
      },
      "execution_count": null,
      "outputs": []
    },
    {
      "cell_type": "code",
      "source": [
        "decrypt()"
      ],
      "metadata": {
        "colab": {
          "base_uri": "https://localhost:8080/"
        },
        "id": "Dx34hHkuoXGu",
        "outputId": "eb01ed04-905d-4b45-f3a1-3944fa709916"
      },
      "execution_count": null,
      "outputs": [
        {
          "output_type": "stream",
          "name": "stdout",
          "text": [
            "Enter the plain text=hello\n",
            "Enter the key,k1=7\n",
            "Enter the key,k2=2\n",
            "Enter the inverse of key k1=15\n",
            "CIPHER TEXT= ZEBBW\n",
            "Enter the key,k2=2\n",
            "Enter the inverse of key k1=15\n",
            "DECRYPTED TEXT= HELLO\n"
          ]
        }
      ]
    },
    {
      "cell_type": "code",
      "source": [
        "#8 RAIL FENCE CIPHER\n",
        "def encrypt():\n",
        "  pt=input(\"Enter the plain text=\")\n",
        "  u=\"\"\n",
        "  l=\"\"\n",
        "  ct=\"\"\n",
        "  for i in range(len(pt)):\n",
        "    if pt[i]==\" \":\n",
        "      continue\n",
        "    if i%2==0:\n",
        "      u=u+pt[i]\n",
        "    else:\n",
        "      l=l+pt[i]\n",
        "  ct=u+l\n",
        "  return ct\n",
        "def decrypt(): \n",
        "  ct=encrypt()\n",
        "  e=\"\"\n",
        "  o=\"\"\n",
        "  print(\"CIPHER TEXT=\",ct)\n",
        "  mid=(len(ct)//2)+1\n",
        "  e=ct[:mid]\n",
        "  o=ct[mid:]\n",
        "  p=0\n",
        "  q=0\n",
        "  dt=\"\"\n",
        "  for i in range(len(ct)):\n",
        "    if(i%2==0):\n",
        "      dt=dt+e[p]\n",
        "      p=p+1\n",
        "    else:\n",
        "      dt=dt+o[q]\n",
        "      q=q+1\n",
        "  print(\"DECRYPTED TEXT=\",dt)"
      ],
      "metadata": {
        "id": "yUozlWjNdjIy"
      },
      "execution_count": null,
      "outputs": []
    },
    {
      "cell_type": "code",
      "source": [
        "decrypt()"
      ],
      "metadata": {
        "colab": {
          "base_uri": "https://localhost:8080/"
        },
        "id": "gwyM-YTAdmeC",
        "outputId": "cd291544-eb0e-49db-f6a1-f6180fdb188c"
      },
      "execution_count": null,
      "outputs": [
        {
          "output_type": "stream",
          "name": "stdout",
          "text": [
            "Enter the plain text=Hello\n",
            "CIPHER TEXT= Hloel\n",
            "DECRYPTED TEXT= Hello\n"
          ]
        }
      ]
    },
    {
      "cell_type": "code",
      "source": [
        "#9 DES\n",
        "# !pip install pyDes\n",
        "import pyDes\n",
        " \n",
        "def encrypt():\n",
        "  data = input(\"Enter the text : \")\n",
        "  k = pyDes.des(\"DESCRYPT\", pyDes.CBC, \"\\0\\0\\0\\0\\0\\0\\0\\0\", pad=None, padmode=pyDes.PAD_PKCS5) \n",
        "  d = k.encrypt(data) \n",
        "  return d\n",
        "def decrypt():\n",
        "  d=encrypt()\n",
        "  print(f\"Encrypted:  {d}\" )\n",
        "  k = pyDes.des(\"DESCRYPT\", pyDes.CBC, \"\\0\\0\\0\\0\\0\\0\\0\\0\", pad=None, padmode=pyDes.PAD_PKCS5) \n",
        "  print(f\"Decrypted: {k.decrypt(d)}\")\n",
        "decrypt()"
      ],
      "metadata": {
        "id": "JWijBjNTkSRY",
        "colab": {
          "base_uri": "https://localhost:8080/"
        },
        "outputId": "3f4ac2e4-c93c-4431-e738-a6cd68b5f165"
      },
      "execution_count": null,
      "outputs": [
        {
          "output_type": "stream",
          "name": "stdout",
          "text": [
            "Enter the text : hello\n",
            "Encrypted:  b'1\\x8e1\\xcf\\xf2\\x0fV\\xaa'\n",
            "Decrypted: b'hello'\n"
          ]
        }
      ]
    },
    {
      "cell_type": "code",
      "source": [
        "#10 AES\n",
        "# !pip install pycrypto\n",
        "\n",
        "import base64\n",
        "import hashlib\n",
        "from Crypto.Cipher import AES\n",
        "from Crypto import Random\n",
        "BLOCK_SIZE = 16\n",
        "pad = lambda s: s + (BLOCK_SIZE - len(s) % BLOCK_SIZE) * chr(BLOCK_SIZE - len(s) % BLOCK_SIZE)\n",
        "unpad = lambda s: s[:-ord(s[len(s) - 1:])]\n",
        "def encrypt(plain_text, key):\n",
        "    private_key = hashlib.sha256(key.encode(\"utf-8\")).digest()\n",
        "    plain_text = pad(plain_text)\n",
        "    print(\"After padding:\", plain_text)\n",
        "    iv = Random.new().read(AES.block_size)\n",
        "    cipher = AES.new(private_key, AES.MODE_CBC, iv)\n",
        "    return base64.b64encode(iv + cipher.encrypt(plain_text))\n",
        "def decrypt(cipher_text, key):\n",
        "    private_key = hashlib.sha256(key.encode(\"utf-8\")).digest()\n",
        "    cipher_text = base64.b64decode(cipher_text)\n",
        "    iv = cipher_text[:16]\n",
        "    cipher = AES.new(private_key, AES.MODE_CBC, iv)\n",
        "    return unpad(cipher.decrypt(cipher_text[16:]))\n",
        "message=input(\"Enter message to encrypt: \");\n",
        "key = input(\"Enter encryption key: \")\n",
        "encrypted_msg = encrypt(message, key)\n",
        "print(\"Encrypted Message:\", encrypted_msg)\n",
        "decrypted_msg = decrypt(encrypted_msg, key)\n",
        "print(\"Decrypted Message:\", bytes.decode(decrypted_msg))"
      ],
      "metadata": {
        "id": "1ylBJKCN99Cl",
        "colab": {
          "base_uri": "https://localhost:8080/"
        },
        "outputId": "ce073839-4e64-4583-859b-395984ed1405"
      },
      "execution_count": null,
      "outputs": [
        {
          "output_type": "stream",
          "name": "stdout",
          "text": [
            "Enter message to encrypt: Hello\n",
            "Enter encryption key: 12345\n",
            "After padding: Hello\u000b\u000b\u000b\u000b\u000b\u000b\u000b\u000b\u000b\u000b\u000b\n",
            "Encrypted Message: b'K0afqC3ik2nfecle4NZL+0Xp6cwkRgSRzkoVve1G//A='\n",
            "Decrypted Message: Hello\n"
          ]
        }
      ]
    },
    {
      "cell_type": "code",
      "source": [
        "\n",
        "import re\n",
        "from enum import Enum\n",
        "\n",
        "LETTERS = 'ABCDEFGHIKLMNOPQRSTUVWXYZ'\n",
        "\n",
        "class Playfair:\n",
        "    @staticmethod\n",
        "    def check_input(arg):\n",
        "        if not isinstance(arg, str):\n",
        "            raise TypeError(\n",
        "                'The argument of the function should be an instance of `str`')\n",
        "\n",
        "        if not all(i.isascii() & i.isprintable() for i in arg):\n",
        "            raise ValueError(\n",
        "                'The argument of the function should be a `str` containing only printable ASCII characters')\n",
        "\n",
        "    @staticmethod\n",
        "    def prepare(msg):\n",
        "        msg = msg.upper().replace('J', 'I')\n",
        "        Playfair.check_input(msg)\n",
        "        msg = ''.join([i for i in msg if i.isalpha()])\n",
        "        while msg:\n",
        "            s = msg[:2]\n",
        "            if len(set(s)) == 2 and s[-1] != 'X':\n",
        "                msg = msg[2:]\n",
        "            else:\n",
        "                s = s[0] + 'X'\n",
        "                msg = msg[1:]\n",
        "            yield s\n",
        "\n",
        "    def __init__(self, key):\n",
        "        key = key.upper().replace('J', 'I')\n",
        "        Playfair.check_input(key)\n",
        "        key = ''.join(i for i in key if i.isalpha())\n",
        "        self.square = list(dict.fromkeys(key + LETTERS))\n",
        "\n",
        "    def locate(self, letter):\n",
        "        letter = letter.upper()\n",
        "        return list(divmod(self.square.index(letter), 5))\n",
        "\n",
        "    def get_letter(self, pos):\n",
        "        index = pos[0] * 5 + pos[1]\n",
        "        return self.square[index]\n",
        "\n",
        "    def transform(self, pair, move):\n",
        "        p0, p1 = map(self.locate, pair)\n",
        "        def roll(x): return (x + move) % 5\n",
        "        for i in range(3):\n",
        "            if i < 2 and p0[i] == p1[i]:\n",
        "                j = 1 - i\n",
        "                p0[j], p1[j] = map(roll, (p0[j], p1[j]))\n",
        "                break\n",
        "            if i == 2:\n",
        "                p0[1], p1[1] = p1[1], p0[1]\n",
        "        return ''.join(map(self.get_letter, (p0, p1)))\n",
        "\n",
        "    def encrypt(self, msg):\n",
        "        pairs = Playfair.prepare(msg)\n",
        "        return ' '.join(self.transform(pair, 1) for pair in pairs)\n",
        "\n",
        "    def decrypt(self, msg):\n",
        "        msg = msg.upper()\n",
        "        Playfair.check_input(msg)\n",
        "        if not re.match(r'^([A-Z]{2}(\\s)?)+$', msg):\n",
        "            raise ValueError(\n",
        "                \"The inputted message isn't a valid Playfair cipher message\")\n",
        "        msg = re.findall('[A-Z]{2}', msg)\n",
        "        def rule1(x): return x if x[1] != 'X' else x[0]\n",
        "        return ' '.join(rule1(self.transform(s, -1)) for s in msg)\n",
        "\n",
        "\n",
        "p = Playfair(\"Imagine there's no heaven\")\n",
        "\n",
        "plain = 'I am a new soul, I came to this strange world'\n",
        "enc=p.encrypt(plain)\n",
        "print(\"encrypted message :\")\n",
        "print(enc)\n",
        "\n",
        "decr=p.decrypt(enc)\n",
        "print(\"decrypted message : \")\n",
        "print(decr)\n",
        "\n"
      ],
      "metadata": {
        "colab": {
          "base_uri": "https://localhost:8080/"
        },
        "id": "RYEkg5EC_UqU",
        "outputId": "2ac0421c-0f9c-4d6b-c454-1ece03bae8f6"
      },
      "execution_count": 3,
      "outputs": [
        {
          "output_type": "stream",
          "name": "stdout",
          "text": [
            "encrypted message :\n",
            "MG AG IS ZT FI FA BG IT EV HR NE EH HG IN TU CE QB\n",
            "decrypted message : \n",
            "IA MA NE WS OU LI CA ME TO TH IS ST RA NG EW OR LD\n"
          ]
        }
      ]
    },
    {
      "cell_type": "code",
      "source": [
        "import os\n",
        "import sys\n",
        "import binascii\n",
        "\n",
        "from cryptography.hazmat.primitives import cmac\n",
        "\n",
        "from cryptography.hazmat.primitives.ciphers import algorithms\n",
        "\n",
        "message = \"message\"\n",
        "ctype=\"TripleDES\"\n",
        "\n",
        "if (len(sys.argv)>1):\n",
        "\tmessage=str(sys.argv[1])\n",
        "if (len(sys.argv)>2):\n",
        "\tctype=str(sys.argv[2])\n",
        "\n",
        "message=message.encode()\n",
        "key = os.urandom(32)\n",
        "\n",
        "c = cmac.CMAC(algorithms.AES(key))\n",
        "\n",
        "if (ctype==\"AES\"): \n",
        "  c = cmac.CMAC(algorithms.AES(key))\n",
        "elif (ctype==\"Camellia\"): \n",
        "  c = cmac.CMAC(algorithms.Camellia(key))\n",
        "elif (ctype==\"TripleDES\"): \n",
        "  key = os.urandom(16)\n",
        "  c = cmac.CMAC(algorithms.TripleDES(key))\n",
        "elif (ctype==\"Blowfish\"): \n",
        "  c = cmac.CMAC(algorithms.Blowfish(key))  \n",
        "elif (ctype==\"CAST5\"): \n",
        "  key = os.urandom(16)\n",
        "  c = cmac.CMAC(algorithms.CAST5(key))    \n",
        "elif (ctype==\"IDEA\"): \n",
        "  key = os.urandom(16)\n",
        "  c = cmac.CMAC(algorithms.IDEA(key))  \n",
        "elif (ctype==\"SEED\"): \n",
        "  key = os.urandom(16)\n",
        "  c = cmac.CMAC(algorithms.SEED(key)) \n",
        "\n",
        "\n",
        "c.update(message)\n",
        "\n",
        "c_copy = c.copy() \n",
        "\n",
        "signature = c.finalize()\n",
        "\n",
        "print (f\"Message: {message.decode()}\" )\n",
        "print (f\"Type: {ctype}\" )\n",
        "print (f\"Key: {binascii.b2a_hex(key).decode()}\")\n",
        "\n",
        "print (f\"CMAC signature: {binascii.b2a_hex(signature).decode()}\")\n",
        "\n",
        "try:\n",
        "  rtn=c_copy.verify(signature)\n",
        "  print (\"Signature matches\")\n",
        "except:\n",
        "  print (\"Signature does not match\")"
      ],
      "metadata": {
        "colab": {
          "base_uri": "https://localhost:8080/"
        },
        "id": "YCvdoFJEIpSt",
        "outputId": "a08bdcc9-21ee-4073-d185-13d02b6a7f40"
      },
      "execution_count": 11,
      "outputs": [
        {
          "output_type": "stream",
          "name": "stdout",
          "text": [
            "Message: -f\n",
            "Type: /root/.local/share/jupyter/runtime/kernel-131e4a84-41a0-42db-9208-a394bbb2c4fc.json\n",
            "Key: aa5e80403cdec960350c77077d0256a10a66d499a97ab60e5087108f1a58015f\n",
            "CMAC signature: fc495db0895ae16b1e1dbb175e8d4836\n",
            "Signature matches\n"
          ]
        }
      ]
    }
  ]
}